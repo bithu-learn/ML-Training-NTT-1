{
  "nbformat": 4,
  "nbformat_minor": 0,
  "metadata": {
    "colab": {
      "provenance": [],
      "include_colab_link": true
    },
    "kernelspec": {
      "name": "python3",
      "display_name": "Python 3"
    },
    "language_info": {
      "name": "python"
    }
  },
  "cells": [
    {
      "cell_type": "markdown",
      "metadata": {
        "id": "view-in-github",
        "colab_type": "text"
      },
      "source": [
        "<a href=\"https://colab.research.google.com/github/bithu-learn/ML-Training-NTT-1/blob/main/ML_DAY_1.ipynb\" target=\"_parent\"><img src=\"https://colab.research.google.com/assets/colab-badge.svg\" alt=\"Open In Colab\"/></a>"
      ]
    },
    {
      "cell_type": "code",
      "execution_count": null,
      "metadata": {
        "colab": {
          "base_uri": "https://localhost:8080/"
        },
        "id": "WBAgvCnxpRIK",
        "outputId": "a0dfb083-25d8-4623-c9be-edf304c90eab"
      },
      "outputs": [
        {
          "output_type": "stream",
          "name": "stdout",
          "text": [
            "Day-1\n"
          ]
        }
      ],
      "source": [
        "print(\"Day-1\")"
      ]
    },
    {
      "cell_type": "markdown",
      "source": [
        "# Lists"
      ],
      "metadata": {
        "id": "n9phnm2CscSs"
      }
    },
    {
      "cell_type": "code",
      "source": [
        "l = [10,20,30]\n",
        "print(l)"
      ],
      "metadata": {
        "colab": {
          "base_uri": "https://localhost:8080/"
        },
        "id": "v3GoBXjEseqa",
        "outputId": "15ed4fa9-d8ab-4234-c948-92d24ae04f60"
      },
      "execution_count": 3,
      "outputs": [
        {
          "output_type": "stream",
          "name": "stdout",
          "text": [
            "[10, 20, 30]\n"
          ]
        }
      ]
    },
    {
      "cell_type": "code",
      "source": [
        "print(type(l))"
      ],
      "metadata": {
        "colab": {
          "base_uri": "https://localhost:8080/"
        },
        "id": "UKHJ-DQrsoWU",
        "outputId": "5f2274b9-7d14-4dee-95e5-f80f59595c98"
      },
      "execution_count": 4,
      "outputs": [
        {
          "output_type": "stream",
          "name": "stdout",
          "text": [
            "<class 'list'>\n"
          ]
        }
      ]
    },
    {
      "cell_type": "code",
      "source": [
        "l2 = [10,1.111,\"NTT\"]"
      ],
      "metadata": {
        "id": "i3XPPfU1s-08"
      },
      "execution_count": 5,
      "outputs": []
    },
    {
      "cell_type": "code",
      "source": [
        "print(len(l2))"
      ],
      "metadata": {
        "colab": {
          "base_uri": "https://localhost:8080/"
        },
        "id": "unid4Ob7tPdi",
        "outputId": "5d534894-c80b-495c-a7f8-26972f8ed708"
      },
      "execution_count": 6,
      "outputs": [
        {
          "output_type": "stream",
          "name": "stdout",
          "text": [
            "3\n"
          ]
        }
      ]
    },
    {
      "cell_type": "markdown",
      "source": [
        "# List creation using constructor"
      ],
      "metadata": {
        "id": "zSHKc58Yui3h"
      }
    },
    {
      "cell_type": "code",
      "source": [
        "l3 = list((10,20,33.333))"
      ],
      "metadata": {
        "id": "XIw8NExGtf_z"
      },
      "execution_count": 7,
      "outputs": []
    },
    {
      "cell_type": "code",
      "source": [
        "l3"
      ],
      "metadata": {
        "colab": {
          "base_uri": "https://localhost:8080/"
        },
        "id": "QNRg03iwu0Xd",
        "outputId": "08094dea-2dca-45a8-efc5-11110943d7a9"
      },
      "execution_count": 8,
      "outputs": [
        {
          "output_type": "execute_result",
          "data": {
            "text/plain": [
              "[10, 20, 33.333]"
            ]
          },
          "metadata": {},
          "execution_count": 8
        }
      ]
    },
    {
      "cell_type": "code",
      "source": [
        "l3[-1]"
      ],
      "metadata": {
        "colab": {
          "base_uri": "https://localhost:8080/"
        },
        "id": "VLhO8yI6u1hv",
        "outputId": "087b9aee-337b-4a55-8112-045abd9ea1db"
      },
      "execution_count": 9,
      "outputs": [
        {
          "output_type": "execute_result",
          "data": {
            "text/plain": [
              "33.333"
            ]
          },
          "metadata": {},
          "execution_count": 9
        }
      ]
    },
    {
      "cell_type": "markdown",
      "source": [
        "# List indexing"
      ],
      "metadata": {
        "id": "elZWytblvykA"
      }
    },
    {
      "cell_type": "code",
      "source": [
        "lis = [10,20,30,40,50,60,1.1,2.2,\"NTT\"]"
      ],
      "metadata": {
        "id": "hAexvQASvp4c"
      },
      "execution_count": 10,
      "outputs": []
    },
    {
      "cell_type": "code",
      "source": [
        "print(lis[0])\n",
        "print(lis[6])\n",
        "print(lis[-1])\n",
        "print(lis[-2])\n",
        "print(lis[-8])"
      ],
      "metadata": {
        "colab": {
          "base_uri": "https://localhost:8080/"
        },
        "id": "A8AqeearwI0f",
        "outputId": "0a1502c7-36df-46d8-d35e-6274812cc2e5"
      },
      "execution_count": 14,
      "outputs": [
        {
          "output_type": "stream",
          "name": "stdout",
          "text": [
            "10\n",
            "1.1\n",
            "NTT\n",
            "2.2\n",
            "20\n"
          ]
        }
      ]
    },
    {
      "cell_type": "code",
      "source": [],
      "metadata": {
        "id": "O0b280Ugw9B9"
      },
      "execution_count": null,
      "outputs": []
    },
    {
      "cell_type": "markdown",
      "source": [
        "# Range of Index"
      ],
      "metadata": {
        "id": "vznrgcMXxU_v"
      }
    },
    {
      "cell_type": "code",
      "source": [
        "l = [10,20,30,40,50,60,70,80]"
      ],
      "metadata": {
        "id": "8Xp6cwU7xXFX"
      },
      "execution_count": 15,
      "outputs": []
    },
    {
      "cell_type": "code",
      "source": [
        "# the last value in the range will always be excluded i.e [0:3] will list elements 0,1,2\n",
        "# start index is the smaller value\n",
        "print(l[2])\n",
        "print(l[2:4])\n",
        "print(l[0:7])\n",
        "print(l[2:6])"
      ],
      "metadata": {
        "colab": {
          "base_uri": "https://localhost:8080/"
        },
        "id": "_0u2mA42xv_t",
        "outputId": "92492c0f-42c5-4e96-8a4f-92b17142ebf4"
      },
      "execution_count": 20,
      "outputs": [
        {
          "output_type": "stream",
          "name": "stdout",
          "text": [
            "30\n",
            "[30, 40]\n",
            "[10, 20, 30, 40, 50, 60, 70]\n",
            "[30, 40, 50, 60]\n"
          ]
        }
      ]
    },
    {
      "cell_type": "code",
      "source": [
        "# range of negative index\n",
        "l[-5:-1]"
      ],
      "metadata": {
        "colab": {
          "base_uri": "https://localhost:8080/"
        },
        "id": "tSizMnxzyHx4",
        "outputId": "29c1ddc3-486e-46b7-89ca-a2fdb9755480"
      },
      "execution_count": 19,
      "outputs": [
        {
          "output_type": "execute_result",
          "data": {
            "text/plain": [
              "[40, 50, 60, 70]"
            ]
          },
          "metadata": {},
          "execution_count": 19
        }
      ]
    },
    {
      "cell_type": "code",
      "source": [
        "#range with stepsize, value for stepsize will always be teh value given - 1 so for 1 stepsize teh actual value considered is 0, 1, is for 2, 2 for 3\n",
        "print(l[0:8:1])\n",
        "print(l[0:8:2])\n",
        "print(l[0:8:3])"
      ],
      "metadata": {
        "colab": {
          "base_uri": "https://localhost:8080/"
        },
        "id": "s1apRY5jz-rj",
        "outputId": "6d5bbf03-7212-4933-8605-58deae33becc"
      },
      "execution_count": 23,
      "outputs": [
        {
          "output_type": "stream",
          "name": "stdout",
          "text": [
            "[10, 20, 30, 40, 50, 60, 70, 80]\n",
            "[10, 30, 50, 70]\n",
            "[10, 40, 70]\n"
          ]
        }
      ]
    },
    {
      "cell_type": "code",
      "source": [
        "#optional range params\n",
        "print(l[0::]) # all elements starting from index 0\n",
        "print(l[0:5:]) # elements starting from index 0 to 4\n",
        "print(l[::]) # all elements\n",
        "print(l[::-1]) # reverse the list"
      ],
      "metadata": {
        "colab": {
          "base_uri": "https://localhost:8080/"
        },
        "id": "ZdVs8EFW17Up",
        "outputId": "feb6626b-3fbf-42c4-d4f8-0aea0a3fd565"
      },
      "execution_count": 27,
      "outputs": [
        {
          "output_type": "stream",
          "name": "stdout",
          "text": [
            "[10, 20, 30, 40, 50, 60, 70, 80]\n",
            "[10, 20, 30, 40, 50]\n",
            "[10, 20, 30, 40, 50, 60, 70, 80]\n",
            "[80, 70, 60, 50, 40, 30, 20, 10]\n"
          ]
        }
      ]
    },
    {
      "cell_type": "code",
      "source": [
        "#make sure all start index, end index and stepsize is positive negative numbers don't mix and match\n",
        "#when a positive index the traversal is from left to right and right to left if it is negative index"
      ],
      "metadata": {
        "id": "g4bXeJb72I9R"
      },
      "execution_count": 29,
      "outputs": []
    },
    {
      "cell_type": "code",
      "source": [
        "print(l[-1:-8:-1])\n",
        "print(l[-1:-8:-2])"
      ],
      "metadata": {
        "colab": {
          "base_uri": "https://localhost:8080/"
        },
        "id": "M9wcfZky44J0",
        "outputId": "51e2a244-8772-46e5-daa4-c040f4c8e6ac"
      },
      "execution_count": 31,
      "outputs": [
        {
          "output_type": "stream",
          "name": "stdout",
          "text": [
            "[80, 70, 60, 50, 40, 30, 20]\n",
            "[80, 60, 40, 20]\n"
          ]
        }
      ]
    },
    {
      "cell_type": "code",
      "source": [
        "lst = [10,20,30,40,50,60]"
      ],
      "metadata": {
        "id": "1vAbnPDz66uM"
      },
      "execution_count": 32,
      "outputs": []
    },
    {
      "cell_type": "code",
      "source": [
        "lst[3:5] = 400,500"
      ],
      "metadata": {
        "id": "h6sApS-Y8ZX_"
      },
      "execution_count": 33,
      "outputs": []
    },
    {
      "cell_type": "code",
      "source": [
        "lst"
      ],
      "metadata": {
        "colab": {
          "base_uri": "https://localhost:8080/"
        },
        "id": "EAgsuIdV8fzy",
        "outputId": "3b45432d-92e0-4f8d-8ba6-6485cb8fa6e9"
      },
      "execution_count": 34,
      "outputs": [
        {
          "output_type": "execute_result",
          "data": {
            "text/plain": [
              "[10, 20, 30, 400, 500, 60]"
            ]
          },
          "metadata": {},
          "execution_count": 34
        }
      ]
    },
    {
      "cell_type": "code",
      "source": [
        "lst[3:6] = 40,50"
      ],
      "metadata": {
        "id": "7p9A_Y1b8gul"
      },
      "execution_count": 35,
      "outputs": []
    },
    {
      "cell_type": "code",
      "source": [
        "lst"
      ],
      "metadata": {
        "colab": {
          "base_uri": "https://localhost:8080/"
        },
        "id": "Q55rC3M68k43",
        "outputId": "bcc28356-c753-40b5-82e8-867940bdcc01"
      },
      "execution_count": 36,
      "outputs": [
        {
          "output_type": "execute_result",
          "data": {
            "text/plain": [
              "[10, 20, 30, 40, 50]"
            ]
          },
          "metadata": {},
          "execution_count": 36
        }
      ]
    },
    {
      "cell_type": "code",
      "source": [
        "#since the last 6 in the code is not given it is getting removed"
      ],
      "metadata": {
        "id": "i_cv5kym8mpt"
      },
      "execution_count": null,
      "outputs": []
    },
    {
      "cell_type": "markdown",
      "source": [
        "# Adding elements to list"
      ],
      "metadata": {
        "id": "ko_7Bk9r8215"
      }
    },
    {
      "cell_type": "code",
      "source": [
        "## append will add the end of array\n",
        "## insert will insert data in a particular position in the list\n",
        "## extend is used to merge lists"
      ],
      "metadata": {
        "id": "ld8YXkSh9Pgu"
      },
      "execution_count": 39,
      "outputs": []
    },
    {
      "cell_type": "code",
      "source": [
        "l1 =  [1,3,5]"
      ],
      "metadata": {
        "id": "L8iSlr2r9z8X"
      },
      "execution_count": 40,
      "outputs": []
    },
    {
      "cell_type": "code",
      "source": [
        "l1.append(6)"
      ],
      "metadata": {
        "id": "cQDd3wUK94AW"
      },
      "execution_count": 41,
      "outputs": []
    },
    {
      "cell_type": "code",
      "source": [
        "l1"
      ],
      "metadata": {
        "colab": {
          "base_uri": "https://localhost:8080/"
        },
        "id": "1yo3Wi_E95gm",
        "outputId": "20ace530-6bb2-49f1-f8b0-a15eb146eb5c"
      },
      "execution_count": 42,
      "outputs": [
        {
          "output_type": "execute_result",
          "data": {
            "text/plain": [
              "[1, 3, 5, 6]"
            ]
          },
          "metadata": {},
          "execution_count": 42
        }
      ]
    },
    {
      "cell_type": "code",
      "source": [
        "l1.insert(1,2)"
      ],
      "metadata": {
        "id": "QX1bKD6R96l-"
      },
      "execution_count": 46,
      "outputs": []
    },
    {
      "cell_type": "code",
      "source": [
        "l1"
      ],
      "metadata": {
        "colab": {
          "base_uri": "https://localhost:8080/"
        },
        "id": "e0pAYTd0-BVp",
        "outputId": "b598e3ce-549a-46e9-a200-bb94d248eef8"
      },
      "execution_count": 44,
      "outputs": [
        {
          "output_type": "execute_result",
          "data": {
            "text/plain": [
              "[1, 2, 3, 5, 6]"
            ]
          },
          "metadata": {},
          "execution_count": 44
        }
      ]
    },
    {
      "cell_type": "code",
      "source": [
        "l2 = [10,20]"
      ],
      "metadata": {
        "id": "-QG4OQFR-ClP"
      },
      "execution_count": 47,
      "outputs": []
    },
    {
      "cell_type": "code",
      "source": [
        "l1.extend(l2)"
      ],
      "metadata": {
        "id": "SRwBYI8k-7YL"
      },
      "execution_count": 48,
      "outputs": []
    },
    {
      "cell_type": "code",
      "source": [
        "l1"
      ],
      "metadata": {
        "colab": {
          "base_uri": "https://localhost:8080/"
        },
        "id": "vxUYhNi4-_EH",
        "outputId": "294df914-f8cb-4d34-e19c-74e93ea8e527"
      },
      "execution_count": 49,
      "outputs": [
        {
          "output_type": "execute_result",
          "data": {
            "text/plain": [
              "[1, 2, 2, 2, 3, 5, 6, 10, 20]"
            ]
          },
          "metadata": {},
          "execution_count": 49
        }
      ]
    },
    {
      "cell_type": "markdown",
      "source": [
        "# Removing elements from list"
      ],
      "metadata": {
        "id": "8dRT707n_DKB"
      }
    },
    {
      "cell_type": "code",
      "source": [
        "# remove will remove a particular element from a list\n",
        "l1"
      ],
      "metadata": {
        "colab": {
          "base_uri": "https://localhost:8080/"
        },
        "id": "YbHmDElx_G2w",
        "outputId": "acb57a77-95a2-430b-bdca-580caaebf3c8"
      },
      "execution_count": 50,
      "outputs": [
        {
          "output_type": "execute_result",
          "data": {
            "text/plain": [
              "[1, 2, 2, 2, 3, 5, 6, 10, 20]"
            ]
          },
          "metadata": {},
          "execution_count": 50
        }
      ]
    },
    {
      "cell_type": "code",
      "source": [
        "# remove will remove a particular element from a list\n",
        "l1.remove(2)"
      ],
      "metadata": {
        "id": "zcx6yajA_r8n"
      },
      "execution_count": 51,
      "outputs": []
    },
    {
      "cell_type": "code",
      "source": [
        "l1"
      ],
      "metadata": {
        "colab": {
          "base_uri": "https://localhost:8080/"
        },
        "id": "XYuy-C9__xaZ",
        "outputId": "8171e6df-57a2-4db4-d944-2f439a9928f1"
      },
      "execution_count": 52,
      "outputs": [
        {
          "output_type": "execute_result",
          "data": {
            "text/plain": [
              "[1, 2, 2, 3, 5, 6, 10, 20]"
            ]
          },
          "metadata": {},
          "execution_count": 52
        }
      ]
    },
    {
      "cell_type": "code",
      "source": [
        "#pop will remove the last element or a particular element at a index"
      ],
      "metadata": {
        "id": "lU1XVVWy_ylg"
      },
      "execution_count": 53,
      "outputs": []
    },
    {
      "cell_type": "code",
      "source": [
        "l1.pop()"
      ],
      "metadata": {
        "colab": {
          "base_uri": "https://localhost:8080/"
        },
        "id": "hGTV79Mq_7_A",
        "outputId": "4ef1f768-58ce-406b-bd87-c0ef5f09fa13"
      },
      "execution_count": 54,
      "outputs": [
        {
          "output_type": "execute_result",
          "data": {
            "text/plain": [
              "20"
            ]
          },
          "metadata": {},
          "execution_count": 54
        }
      ]
    },
    {
      "cell_type": "code",
      "source": [
        "l1.pop(1)"
      ],
      "metadata": {
        "colab": {
          "base_uri": "https://localhost:8080/"
        },
        "id": "hzt2Lx1y_-xp",
        "outputId": "f8b0ac82-9e1d-4a3e-ac4a-49e68f0184c6"
      },
      "execution_count": 55,
      "outputs": [
        {
          "output_type": "execute_result",
          "data": {
            "text/plain": [
              "2"
            ]
          },
          "metadata": {},
          "execution_count": 55
        }
      ]
    },
    {
      "cell_type": "code",
      "source": [
        "l1"
      ],
      "metadata": {
        "colab": {
          "base_uri": "https://localhost:8080/"
        },
        "id": "gGieHkeSAB85",
        "outputId": "87c69e11-7dd9-4218-a818-7a24be54f399"
      },
      "execution_count": 56,
      "outputs": [
        {
          "output_type": "execute_result",
          "data": {
            "text/plain": [
              "[1, 2, 3, 5, 6, 10]"
            ]
          },
          "metadata": {},
          "execution_count": 56
        }
      ]
    },
    {
      "cell_type": "code",
      "source": [
        "#clear the contents of a list\n",
        "l2"
      ],
      "metadata": {
        "colab": {
          "base_uri": "https://localhost:8080/"
        },
        "id": "CgN_3TLbACyp",
        "outputId": "e1a10678-532a-4acd-e55e-d32fdd55823e"
      },
      "execution_count": 58,
      "outputs": [
        {
          "output_type": "execute_result",
          "data": {
            "text/plain": [
              "[10, 20]"
            ]
          },
          "metadata": {},
          "execution_count": 58
        }
      ]
    },
    {
      "cell_type": "code",
      "source": [
        "l2.clear()"
      ],
      "metadata": {
        "id": "71FSSYCPAKlk"
      },
      "execution_count": 59,
      "outputs": []
    },
    {
      "cell_type": "code",
      "source": [
        "l2"
      ],
      "metadata": {
        "colab": {
          "base_uri": "https://localhost:8080/"
        },
        "id": "_e30HQBaAN9Z",
        "outputId": "e6ddcb62-14a9-43e3-8484-9e153ad7eb0b"
      },
      "execution_count": 60,
      "outputs": [
        {
          "output_type": "execute_result",
          "data": {
            "text/plain": [
              "[]"
            ]
          },
          "metadata": {},
          "execution_count": 60
        }
      ]
    },
    {
      "cell_type": "code",
      "source": [
        "l2.append(0)"
      ],
      "metadata": {
        "id": "tNPd-w3hAbn5"
      },
      "execution_count": 66,
      "outputs": []
    },
    {
      "cell_type": "code",
      "source": [
        "l2"
      ],
      "metadata": {
        "colab": {
          "base_uri": "https://localhost:8080/"
        },
        "id": "ip25OgDQAiNC",
        "outputId": "4e5bad55-7de8-476d-fe8a-5b24109d53fb"
      },
      "execution_count": 67,
      "outputs": [
        {
          "output_type": "execute_result",
          "data": {
            "text/plain": [
              "[0, 0]"
            ]
          },
          "metadata": {},
          "execution_count": 67
        }
      ]
    },
    {
      "cell_type": "code",
      "source": [
        "#del will delete the list"
      ],
      "metadata": {
        "id": "u3Jfpj-tAO5D"
      },
      "execution_count": 70,
      "outputs": []
    },
    {
      "cell_type": "code",
      "source": [
        "del(l2)"
      ],
      "metadata": {
        "id": "kn30S72KARgX"
      },
      "execution_count": 69,
      "outputs": []
    },
    {
      "cell_type": "code",
      "source": [],
      "metadata": {
        "id": "6qlOFA5mAWRS"
      },
      "execution_count": null,
      "outputs": []
    },
    {
      "cell_type": "markdown",
      "source": [
        "# Iterating lists"
      ],
      "metadata": {
        "id": "RysXBmeCA7LQ"
      }
    },
    {
      "cell_type": "code",
      "source": [
        "for i in l1:\n",
        "  print(i)"
      ],
      "metadata": {
        "colab": {
          "base_uri": "https://localhost:8080/"
        },
        "id": "Z4Z6446yA9NI",
        "outputId": "5b340a16-e689-41f6-b233-6f1faa448e37"
      },
      "execution_count": 71,
      "outputs": [
        {
          "output_type": "stream",
          "name": "stdout",
          "text": [
            "1\n",
            "2\n",
            "3\n",
            "5\n",
            "6\n",
            "10\n"
          ]
        }
      ]
    },
    {
      "cell_type": "code",
      "source": [],
      "metadata": {
        "id": "EBqU13gSBBIQ"
      },
      "execution_count": null,
      "outputs": []
    }
  ]
}