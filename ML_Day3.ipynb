{
  "nbformat": 4,
  "nbformat_minor": 0,
  "metadata": {
    "colab": {
      "provenance": []
    },
    "kernelspec": {
      "name": "python3",
      "display_name": "Python 3"
    },
    "language_info": {
      "name": "python"
    }
  },
  "cells": [
    {
      "cell_type": "code",
      "execution_count": null,
      "metadata": {
        "colab": {
          "base_uri": "https://localhost:8080/"
        },
        "id": "ZkJ10K5o3YG6",
        "outputId": "04b3eedf-b920-4375-a24a-949269e0992f"
      },
      "outputs": [
        {
          "output_type": "stream",
          "name": "stdout",
          "text": [
            "day-3\n"
          ]
        }
      ],
      "source": [
        "print(\"day-3\")"
      ]
    },
    {
      "cell_type": "markdown",
      "source": [
        "# Tuple"
      ],
      "metadata": {
        "id": "sXEAC3alChpv"
      }
    },
    {
      "cell_type": "code",
      "source": [
        "t1 = (1,2,3,\"ntt\",4)"
      ],
      "metadata": {
        "id": "26IGizOP_i56"
      },
      "execution_count": 1,
      "outputs": []
    },
    {
      "cell_type": "code",
      "source": [
        "t1"
      ],
      "metadata": {
        "colab": {
          "base_uri": "https://localhost:8080/"
        },
        "id": "Kb13Juih_l1P",
        "outputId": "3bb5a6d0-515a-40a4-b064-85a2694220fe"
      },
      "execution_count": 2,
      "outputs": [
        {
          "output_type": "execute_result",
          "data": {
            "text/plain": [
              "(1, 2, 3, 'ntt', 4)"
            ]
          },
          "metadata": {},
          "execution_count": 2
        }
      ]
    },
    {
      "cell_type": "code",
      "source": [
        "print(type(t1))"
      ],
      "metadata": {
        "colab": {
          "base_uri": "https://localhost:8080/"
        },
        "id": "lrHsJHQf_yRr",
        "outputId": "ad1b8c12-4fc7-4511-d6a2-d68c064414a7"
      },
      "execution_count": 3,
      "outputs": [
        {
          "output_type": "stream",
          "name": "stdout",
          "text": [
            "<class 'tuple'>\n"
          ]
        }
      ]
    },
    {
      "cell_type": "code",
      "source": [
        "t2 = tuple((1,2,3,\"ntt\",4))"
      ],
      "metadata": {
        "id": "f8xTrWZi_4qj"
      },
      "execution_count": 4,
      "outputs": []
    },
    {
      "cell_type": "code",
      "source": [
        "print(t2)"
      ],
      "metadata": {
        "colab": {
          "base_uri": "https://localhost:8080/"
        },
        "id": "Bd0vkOXRAOdm",
        "outputId": "3f855b36-786f-4382-a1e0-94c5368daaa6"
      },
      "execution_count": 5,
      "outputs": [
        {
          "output_type": "stream",
          "name": "stdout",
          "text": [
            "(1, 2, 3, 'ntt', 4)\n"
          ]
        }
      ]
    },
    {
      "cell_type": "code",
      "source": [
        "print(type(t2))"
      ],
      "metadata": {
        "colab": {
          "base_uri": "https://localhost:8080/"
        },
        "id": "rUj2nGReAP5S",
        "outputId": "c8bf01eb-1a05-4159-a9c3-acc25d275b26"
      },
      "execution_count": 6,
      "outputs": [
        {
          "output_type": "stream",
          "name": "stdout",
          "text": [
            "<class 'tuple'>\n"
          ]
        }
      ]
    },
    {
      "cell_type": "code",
      "source": [
        "t3 = tuple([1,2,3,\"ntt\",4])"
      ],
      "metadata": {
        "id": "PuXc3WBBASvq"
      },
      "execution_count": 7,
      "outputs": []
    },
    {
      "cell_type": "code",
      "source": [
        "type(t3)"
      ],
      "metadata": {
        "colab": {
          "base_uri": "https://localhost:8080/"
        },
        "id": "3OHLA5gDBJKM",
        "outputId": "bb9dc9c3-c1cc-484c-cae2-1a0514f2038f"
      },
      "execution_count": 8,
      "outputs": [
        {
          "output_type": "execute_result",
          "data": {
            "text/plain": [
              "tuple"
            ]
          },
          "metadata": {},
          "execution_count": 8
        }
      ]
    },
    {
      "cell_type": "code",
      "source": [
        "t4 = tuple([15])\n",
        "type(t4)"
      ],
      "metadata": {
        "colab": {
          "base_uri": "https://localhost:8080/"
        },
        "id": "8_Pon89MBNl8",
        "outputId": "ecd4a716-f929-4b8d-acae-e4d77617889e"
      },
      "execution_count": 10,
      "outputs": [
        {
          "output_type": "execute_result",
          "data": {
            "text/plain": [
              "tuple"
            ]
          },
          "metadata": {},
          "execution_count": 10
        }
      ]
    },
    {
      "cell_type": "code",
      "source": [
        "t5 = tuple((5,)) # please give a ',' to make the number iterable , because the tuple() method expects an iterable object\n",
        "type(t5)"
      ],
      "metadata": {
        "colab": {
          "base_uri": "https://localhost:8080/"
        },
        "id": "F3ovc_LwB-TO",
        "outputId": "8c318b2e-a75a-445a-be0f-3e5285354958"
      },
      "execution_count": 12,
      "outputs": [
        {
          "output_type": "execute_result",
          "data": {
            "text/plain": [
              "tuple"
            ]
          },
          "metadata": {},
          "execution_count": 12
        }
      ]
    },
    {
      "cell_type": "code",
      "source": [
        "t6 = tuple((\"ntt\"))\n",
        "print(t6)\n",
        "type(t6)"
      ],
      "metadata": {
        "colab": {
          "base_uri": "https://localhost:8080/"
        },
        "id": "wSjL_fvZC5EM",
        "outputId": "654b845a-4891-4a92-e96b-269ca6dd4ad4"
      },
      "execution_count": 14,
      "outputs": [
        {
          "output_type": "stream",
          "name": "stdout",
          "text": [
            "('n', 't', 't')\n"
          ]
        },
        {
          "output_type": "execute_result",
          "data": {
            "text/plain": [
              "tuple"
            ]
          },
          "metadata": {},
          "execution_count": 14
        }
      ]
    },
    {
      "cell_type": "code",
      "source": [
        "t7 = tuple((\"ntt\",1,15,\"Bijith\"))\n",
        "print(t7)\n",
        "type(t7)"
      ],
      "metadata": {
        "colab": {
          "base_uri": "https://localhost:8080/"
        },
        "id": "xDaF4I6-C9OX",
        "outputId": "8e7c0f62-9250-480a-d28e-290c367739a5"
      },
      "execution_count": 17,
      "outputs": [
        {
          "output_type": "stream",
          "name": "stdout",
          "text": [
            "('ntt', 1, 15, 'Bijith')\n"
          ]
        },
        {
          "output_type": "execute_result",
          "data": {
            "text/plain": [
              "tuple"
            ]
          },
          "metadata": {},
          "execution_count": 17
        }
      ]
    },
    {
      "cell_type": "code",
      "source": [
        "for i in t7:\n",
        "  print(i)"
      ],
      "metadata": {
        "colab": {
          "base_uri": "https://localhost:8080/"
        },
        "id": "pYK86ZJYFm08",
        "outputId": "4a325791-7f51-4c7b-a34f-263746292452"
      },
      "execution_count": 18,
      "outputs": [
        {
          "output_type": "stream",
          "name": "stdout",
          "text": [
            "ntt\n",
            "1\n",
            "15\n",
            "Bijith\n"
          ]
        }
      ]
    },
    {
      "cell_type": "code",
      "source": [
        "print(t7[0])\n",
        "print(t7[-1])\n",
        "print(t7[2:4])\n",
        "print(t7[2:])\n",
        "print(t7[-4:-1])"
      ],
      "metadata": {
        "colab": {
          "base_uri": "https://localhost:8080/"
        },
        "id": "tCZvxOuOF6CK",
        "outputId": "d701fa7a-74e9-4f74-bbc4-dd9f94a9829e"
      },
      "execution_count": 21,
      "outputs": [
        {
          "output_type": "stream",
          "name": "stdout",
          "text": [
            "ntt\n",
            "Bijith\n",
            "(15, 'Bijith')\n",
            "(15, 'Bijith')\n",
            "('ntt', 1, 15)\n"
          ]
        }
      ]
    },
    {
      "cell_type": "code",
      "source": [
        "t7[0] = 100"
      ],
      "metadata": {
        "colab": {
          "base_uri": "https://localhost:8080/",
          "height": 141
        },
        "id": "DHRmC8lnGzq0",
        "outputId": "8c05f451-7535-441f-a6f0-d8df93d9be64"
      },
      "execution_count": 22,
      "outputs": [
        {
          "output_type": "error",
          "ename": "TypeError",
          "evalue": "'tuple' object does not support item assignment",
          "traceback": [
            "\u001b[0;31m---------------------------------------------------------------------------\u001b[0m",
            "\u001b[0;31mTypeError\u001b[0m                                 Traceback (most recent call last)",
            "\u001b[0;32m<ipython-input-22-9bf172869499>\u001b[0m in \u001b[0;36m<cell line: 1>\u001b[0;34m()\u001b[0m\n\u001b[0;32m----> 1\u001b[0;31m \u001b[0mt7\u001b[0m\u001b[0;34m[\u001b[0m\u001b[0;36m0\u001b[0m\u001b[0;34m]\u001b[0m \u001b[0;34m=\u001b[0m \u001b[0;36m100\u001b[0m\u001b[0;34m\u001b[0m\u001b[0;34m\u001b[0m\u001b[0m\n\u001b[0m",
            "\u001b[0;31mTypeError\u001b[0m: 'tuple' object does not support item assignment"
          ]
        }
      ]
    },
    {
      "cell_type": "code",
      "source": [
        "t8 = list(t7)\n",
        "print(t8)\n",
        "type(t8)"
      ],
      "metadata": {
        "colab": {
          "base_uri": "https://localhost:8080/"
        },
        "id": "SigJGRHKG2GW",
        "outputId": "d72f626a-1f93-45b8-e010-52ce8f80279c"
      },
      "execution_count": 24,
      "outputs": [
        {
          "output_type": "stream",
          "name": "stdout",
          "text": [
            "['ntt', 1, 15, 'Bijith']\n"
          ]
        },
        {
          "output_type": "execute_result",
          "data": {
            "text/plain": [
              "list"
            ]
          },
          "metadata": {},
          "execution_count": 24
        }
      ]
    },
    {
      "cell_type": "code",
      "source": [
        "t8[0] = 100\n",
        "print(t8)"
      ],
      "metadata": {
        "colab": {
          "base_uri": "https://localhost:8080/"
        },
        "id": "1_V4sB_6Hivb",
        "outputId": "cca97764-24ba-4626-bb2b-e5a6f783ae07"
      },
      "execution_count": 25,
      "outputs": [
        {
          "output_type": "stream",
          "name": "stdout",
          "text": [
            "[100, 1, 15, 'Bijith']\n"
          ]
        }
      ]
    },
    {
      "cell_type": "code",
      "source": [
        "del t7 # delete tuple t7"
      ],
      "metadata": {
        "id": "6OxGRIAYH-CM"
      },
      "execution_count": 26,
      "outputs": []
    },
    {
      "cell_type": "markdown",
      "source": [
        "# Dictionary"
      ],
      "metadata": {
        "id": "xsgZza6iKpWN"
      }
    },
    {
      "cell_type": "code",
      "source": [
        "d1 = {\"name\": \"Bijith\",\"age\":48,\"course\":\"Msc\"}\n",
        "\n",
        "print(d1)\n",
        "print(d1[\"name\"])\n",
        "type(d1)"
      ],
      "metadata": {
        "colab": {
          "base_uri": "https://localhost:8080/"
        },
        "id": "oPxQ4KKTKsZy",
        "outputId": "36ebaa0b-75cb-4714-f888-60297534ed3a"
      },
      "execution_count": 30,
      "outputs": [
        {
          "output_type": "stream",
          "name": "stdout",
          "text": [
            "{'name': 'Bijith', 'age': 48, 'course': 'Msc'}\n",
            "Bijith\n"
          ]
        },
        {
          "output_type": "execute_result",
          "data": {
            "text/plain": [
              "dict"
            ]
          },
          "metadata": {},
          "execution_count": 30
        }
      ]
    },
    {
      "cell_type": "code",
      "source": [
        "d2 = {\"usn1\": [\"Bijith\",48,\"Msc\"]}\n",
        "print(d2)"
      ],
      "metadata": {
        "colab": {
          "base_uri": "https://localhost:8080/"
        },
        "id": "-57b7v4IMv0Q",
        "outputId": "de05c2b5-e0f4-4810-ec34-9a4da56438b0"
      },
      "execution_count": 31,
      "outputs": [
        {
          "output_type": "stream",
          "name": "stdout",
          "text": [
            "{'usn1': ['Bijith', 48, 'Msc']}\n"
          ]
        }
      ]
    },
    {
      "cell_type": "code",
      "source": [
        "d3 = dict(name=\"Bijith\",age=48, course=\"Msc\")\n",
        "print(d3)"
      ],
      "metadata": {
        "colab": {
          "base_uri": "https://localhost:8080/"
        },
        "id": "HEF2V49VM-2X",
        "outputId": "6b30e54a-765f-4247-d6b7-8ceb89fc3815"
      },
      "execution_count": 32,
      "outputs": [
        {
          "output_type": "stream",
          "name": "stdout",
          "text": [
            "{'name': 'Bijith', 'age': 48, 'course': 'Msc'}\n"
          ]
        }
      ]
    },
    {
      "cell_type": "code",
      "source": [
        "print(d3.keys())"
      ],
      "metadata": {
        "colab": {
          "base_uri": "https://localhost:8080/"
        },
        "id": "WcHGYrwxNRVy",
        "outputId": "3439a3c6-a56a-4fa6-a8ac-0aa7119762c1"
      },
      "execution_count": 33,
      "outputs": [
        {
          "output_type": "stream",
          "name": "stdout",
          "text": [
            "dict_keys(['name', 'age', 'course'])\n"
          ]
        }
      ]
    },
    {
      "cell_type": "code",
      "source": [
        "print(d3.values())"
      ],
      "metadata": {
        "colab": {
          "base_uri": "https://localhost:8080/"
        },
        "id": "duAbwUp7NZzA",
        "outputId": "bff98c83-3ca8-4739-b486-c3e6fad2a37a"
      },
      "execution_count": 34,
      "outputs": [
        {
          "output_type": "stream",
          "name": "stdout",
          "text": [
            "dict_values(['Bijith', 48, 'Msc'])\n"
          ]
        }
      ]
    },
    {
      "cell_type": "code",
      "source": [
        "print(d3.items())"
      ],
      "metadata": {
        "colab": {
          "base_uri": "https://localhost:8080/"
        },
        "id": "KGcj3CQjNd_2",
        "outputId": "2672e963-6f09-46a7-a0ba-3b03021a5145"
      },
      "execution_count": 35,
      "outputs": [
        {
          "output_type": "stream",
          "name": "stdout",
          "text": [
            "dict_items([('name', 'Bijith'), ('age', 48), ('course', 'Msc')])\n"
          ]
        }
      ]
    },
    {
      "cell_type": "code",
      "source": [],
      "metadata": {
        "id": "yll14ciNN1Hi"
      },
      "execution_count": null,
      "outputs": []
    },
    {
      "cell_type": "code",
      "source": [
        "d3[\"name\"] = \"Bijith Komalan\"\n",
        "print(d3)"
      ],
      "metadata": {
        "colab": {
          "base_uri": "https://localhost:8080/"
        },
        "id": "sPVQ_c1GNmyC",
        "outputId": "d49fb49a-0341-445b-d7ef-080b53ed73a4"
      },
      "execution_count": 37,
      "outputs": [
        {
          "output_type": "stream",
          "name": "stdout",
          "text": [
            "{'name': 'Bijith Komalan', 'age': 48, 'course': 'Msc'}\n"
          ]
        }
      ]
    },
    {
      "cell_type": "code",
      "source": [
        "d3.update({\"course\": \"Msc,MCA\"})"
      ],
      "metadata": {
        "id": "mI_dKgA5NvIA"
      },
      "execution_count": 38,
      "outputs": []
    },
    {
      "cell_type": "code",
      "source": [
        "d3"
      ],
      "metadata": {
        "colab": {
          "base_uri": "https://localhost:8080/"
        },
        "id": "bj38lxTnN8MS",
        "outputId": "4ab4be47-3a3d-46aa-eb72-d02484891a23"
      },
      "execution_count": 39,
      "outputs": [
        {
          "output_type": "execute_result",
          "data": {
            "text/plain": [
              "{'name': 'Bijith Komalan', 'age': 48, 'course': 'Msc,MCA'}"
            ]
          },
          "metadata": {},
          "execution_count": 39
        }
      ]
    },
    {
      "cell_type": "code",
      "source": [
        "d3['country'] = \"India\"\n",
        "d3"
      ],
      "metadata": {
        "colab": {
          "base_uri": "https://localhost:8080/"
        },
        "id": "mlhFQKPRN--e",
        "outputId": "023faa4b-1731-4719-fe83-61dff556592c"
      },
      "execution_count": 40,
      "outputs": [
        {
          "output_type": "execute_result",
          "data": {
            "text/plain": [
              "{'name': 'Bijith Komalan', 'age': 48, 'course': 'Msc,MCA', 'country': 'India'}"
            ]
          },
          "metadata": {},
          "execution_count": 40
        }
      ]
    },
    {
      "cell_type": "code",
      "source": [
        "#removing a particular key in dict\n",
        "d3.pop(\"course\")\n",
        "d3"
      ],
      "metadata": {
        "colab": {
          "base_uri": "https://localhost:8080/"
        },
        "id": "a3QyKa9DOWS3",
        "outputId": "80636fc1-2b1a-442c-f27a-a871db0ba557"
      },
      "execution_count": 41,
      "outputs": [
        {
          "output_type": "execute_result",
          "data": {
            "text/plain": [
              "{'name': 'Bijith Komalan', 'age': 48, 'country': 'India'}"
            ]
          },
          "metadata": {},
          "execution_count": 41
        }
      ]
    },
    {
      "cell_type": "code",
      "source": [
        "#remove the last key in the dict\n",
        "d3.popitem()\n",
        "d3"
      ],
      "metadata": {
        "colab": {
          "base_uri": "https://localhost:8080/"
        },
        "id": "yYHG1eJROWdd",
        "outputId": "da7d3c57-e760-4a4d-c23b-6e575957439f"
      },
      "execution_count": 42,
      "outputs": [
        {
          "output_type": "execute_result",
          "data": {
            "text/plain": [
              "{'name': 'Bijith Komalan', 'age': 48}"
            ]
          },
          "metadata": {},
          "execution_count": 42
        }
      ]
    },
    {
      "cell_type": "code",
      "source": [
        "#deleting a particulat element\n",
        "del d3[\"name\"]\n",
        "d3"
      ],
      "metadata": {
        "colab": {
          "base_uri": "https://localhost:8080/"
        },
        "id": "ueTYMKmcOtOu",
        "outputId": "6656e77f-0af2-49db-f133-8b7039b2ea5c"
      },
      "execution_count": 43,
      "outputs": [
        {
          "output_type": "execute_result",
          "data": {
            "text/plain": [
              "{'age': 48}"
            ]
          },
          "metadata": {},
          "execution_count": 43
        }
      ]
    },
    {
      "cell_type": "code",
      "source": [
        "# deleting a dict\n",
        "del d3"
      ],
      "metadata": {
        "id": "IGKrl9tJO1UK"
      },
      "execution_count": 44,
      "outputs": []
    },
    {
      "cell_type": "code",
      "source": [
        "for key,val in d2.items():\n",
        "  print(key, val)"
      ],
      "metadata": {
        "colab": {
          "base_uri": "https://localhost:8080/"
        },
        "id": "f3NItuRAPUYF",
        "outputId": "2af68172-dace-4577-afca-d4717d6c4a98"
      },
      "execution_count": 45,
      "outputs": [
        {
          "output_type": "stream",
          "name": "stdout",
          "text": [
            "usn1 ['Bijith', 48, 'Msc']\n"
          ]
        }
      ]
    },
    {
      "cell_type": "markdown",
      "source": [
        "# Numpy"
      ],
      "metadata": {
        "id": "A3ea_m5yPQs2"
      }
    },
    {
      "cell_type": "code",
      "source": [
        "import numpy as np"
      ],
      "metadata": {
        "id": "jQLIGQeaPSIo"
      },
      "execution_count": 46,
      "outputs": []
    },
    {
      "cell_type": "code",
      "source": [
        "arr = np.array([1,2,3,4,5])\n",
        "print(arr)\n",
        "type(arr)"
      ],
      "metadata": {
        "colab": {
          "base_uri": "https://localhost:8080/"
        },
        "id": "lakAzuHtRINS",
        "outputId": "503f590a-0344-418c-8bd1-1d43d87aef6d"
      },
      "execution_count": 47,
      "outputs": [
        {
          "output_type": "stream",
          "name": "stdout",
          "text": [
            "[1 2 3 4 5]\n"
          ]
        },
        {
          "output_type": "execute_result",
          "data": {
            "text/plain": [
              "numpy.ndarray"
            ]
          },
          "metadata": {},
          "execution_count": 47
        }
      ]
    },
    {
      "cell_type": "code",
      "source": [
        "#two know the dimension of the aary\n",
        "print(arr.ndim)\n",
        "#size of the array\n",
        "print(arr.size)\n",
        "# shape of the arry , #no of rows and cols, always returned as tuple\n",
        "print(arr.shape)\n",
        "# data type of array\n",
        "print(arr.dtype)"
      ],
      "metadata": {
        "colab": {
          "base_uri": "https://localhost:8080/"
        },
        "id": "N4DDnBsYRy4A",
        "outputId": "ff1f33ee-e940-4386-f699-8a2f6042f25a"
      },
      "execution_count": 50,
      "outputs": [
        {
          "output_type": "stream",
          "name": "stdout",
          "text": [
            "1\n",
            "5\n",
            "(5,)\n",
            "int64\n"
          ]
        }
      ]
    },
    {
      "cell_type": "code",
      "source": [
        "#creating 2d array with numpy\n",
        "arr2d = np.array([\n",
        "    [1,2,3],\n",
        "    [4,5,6]\n",
        "])\n",
        "print(arr2d)\n",
        "#two know the dimension of the aary\n",
        "print(type(arr2d))\n",
        "print(arr2d.ndim)\n",
        "#size of the array\n",
        "print(arr2d.size)\n",
        "# shape of the arry , #no of rows and cols, always returned as tuple\n",
        "print(arr2d.shape)\n",
        "# data type of array\n",
        "print(arr2d.dtype)"
      ],
      "metadata": {
        "colab": {
          "base_uri": "https://localhost:8080/"
        },
        "id": "TBNcg6JTS3JJ",
        "outputId": "62ed9a44-2124-4c13-80cc-26bace3e8d2e"
      },
      "execution_count": 52,
      "outputs": [
        {
          "output_type": "stream",
          "name": "stdout",
          "text": [
            "[[1 2 3]\n",
            " [4 5 6]]\n",
            "<class 'numpy.ndarray'>\n",
            "2\n",
            "6\n",
            "(2, 3)\n",
            "int64\n"
          ]
        }
      ]
    },
    {
      "cell_type": "code",
      "source": [
        "#creating 3d array with numpy\n",
        "arr3d = np.array([\n",
        "    [\n",
        "        [1,2,3],\n",
        "        [4,5,6]\n",
        "    ],\n",
        "    [\n",
        "      [7,8,9],\n",
        "      [10,11,12]\n",
        "    ]\n",
        "])\n",
        "print(arr3d)\n",
        "#two know the dimension of the aary\n",
        "print(type(arr3d))\n",
        "print(arr3d.ndim)\n",
        "#size of the array\n",
        "print(arr3d.size)\n",
        "# shape of the arry , #no of rows and cols, always returned as tuple\n",
        "print(arr3d.shape)\n",
        "# data type of array\n",
        "print(arr3d.dtype)"
      ],
      "metadata": {
        "colab": {
          "base_uri": "https://localhost:8080/"
        },
        "id": "wAyRrzVEToHG",
        "outputId": "4bbe961a-75eb-4a44-fd51-db9a52565393"
      },
      "execution_count": 62,
      "outputs": [
        {
          "output_type": "stream",
          "name": "stdout",
          "text": [
            "[[[ 1  2  3]\n",
            "  [ 4  5  6]]\n",
            "\n",
            " [[ 7  8  9]\n",
            "  [10 11 12]]]\n",
            "<class 'numpy.ndarray'>\n",
            "3\n",
            "12\n",
            "(2, 2, 3)\n",
            "int64\n"
          ]
        }
      ]
    },
    {
      "cell_type": "code",
      "source": [
        "#creating 4d array with numpy\n",
        "arr4d = np.array([[\n",
        "    [\n",
        "        [1,2,3],\n",
        "        [4,5,6]\n",
        "    ],\n",
        "    [\n",
        "      [7,8,9],\n",
        "      [10,11,12]\n",
        "    ]\n",
        "]])\n",
        "print(arr4d)\n",
        "#two know the dimension of the aary\n",
        "print(type(arr4d))\n",
        "print(arr4d.ndim)\n",
        "#size of the array\n",
        "print(arr4d.size)\n",
        "# shape of the arry , #no of rows and cols, always returned as tuple\n",
        "print(arr4d.shape)\n",
        "# data type of array\n",
        "print(arr4d.dtype)"
      ],
      "metadata": {
        "colab": {
          "base_uri": "https://localhost:8080/"
        },
        "id": "hAXjfTdWVr0y",
        "outputId": "f6f82be7-125e-4ce7-da5f-6d7990b0d01a"
      },
      "execution_count": 66,
      "outputs": [
        {
          "output_type": "stream",
          "name": "stdout",
          "text": [
            "[[[[ 1  2  3]\n",
            "   [ 4  5  6]]\n",
            "\n",
            "  [[ 7  8  9]\n",
            "   [10 11 12]]]]\n",
            "<class 'numpy.ndarray'>\n",
            "4\n",
            "12\n",
            "(1, 2, 2, 3)\n",
            "int64\n"
          ]
        }
      ]
    },
    {
      "cell_type": "code",
      "source": [
        "#creating 5d array with numpy\n",
        "arr5d = np.array([[[\n",
        "    [\n",
        "        [1,2,3],\n",
        "        [4,5,6]\n",
        "    ],\n",
        "    [\n",
        "      [7,8,9],\n",
        "      [10,11,12]\n",
        "    ]\n",
        "]]])\n",
        "print(arr5d)\n",
        "#two know the dimension of the aary\n",
        "print(type(arr5d))\n",
        "print(arr5d.ndim)\n",
        "#size of the array\n",
        "print(arr5d.size)\n",
        "# shape of the arry , #no of rows and cols, always returned as tuple\n",
        "print(arr5d.shape)\n",
        "# data type of array\n",
        "print(arr5d.dtype)"
      ],
      "metadata": {
        "id": "nVWKBX5zXapo",
        "outputId": "ed5e6c55-d511-4776-c1e2-1d47d24c7c78",
        "colab": {
          "base_uri": "https://localhost:8080/"
        }
      },
      "execution_count": 67,
      "outputs": [
        {
          "output_type": "stream",
          "name": "stdout",
          "text": [
            "[[[[[ 1  2  3]\n",
            "    [ 4  5  6]]\n",
            "\n",
            "   [[ 7  8  9]\n",
            "    [10 11 12]]]]]\n",
            "<class 'numpy.ndarray'>\n",
            "5\n",
            "12\n",
            "(1, 1, 2, 2, 3)\n",
            "int64\n"
          ]
        }
      ]
    },
    {
      "cell_type": "markdown",
      "source": [
        "single line -> 1d\n",
        "multiple lines in a page -> 2d\n",
        "stacking of these pages in a book -> 3d\n",
        "stacking of books in a shelf -> 4d\n",
        "stacking of shelfs in a rack -> 5d\n",
        "stacking of racks in a row -> 6d\n",
        "stacking of rack rows in a library -> 7d"
      ],
      "metadata": {
        "id": "HJi2YDI7X8WD"
      }
    },
    {
      "cell_type": "code",
      "source": [],
      "metadata": {
        "id": "cHxVzOwEYb3K"
      },
      "execution_count": null,
      "outputs": []
    }
  ]
}