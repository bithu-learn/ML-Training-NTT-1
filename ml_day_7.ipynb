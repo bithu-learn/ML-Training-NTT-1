{
  "nbformat": 4,
  "nbformat_minor": 0,
  "metadata": {
    "colab": {
      "provenance": [],
      "include_colab_link": true
    },
    "kernelspec": {
      "name": "python3",
      "display_name": "Python 3"
    },
    "language_info": {
      "name": "python"
    }
  },
  "cells": [
    {
      "cell_type": "markdown",
      "metadata": {
        "id": "view-in-github",
        "colab_type": "text"
      },
      "source": [
        "<a href=\"https://colab.research.google.com/github/bithu-learn/ML-Training-NTT-1/blob/main/ml_day_7.ipynb\" target=\"_parent\"><img src=\"https://colab.research.google.com/assets/colab-badge.svg\" alt=\"Open In Colab\"/></a>"
      ]
    },
    {
      "cell_type": "code",
      "execution_count": null,
      "metadata": {
        "id": "yFnxUOoJ3K8w"
      },
      "outputs": [],
      "source": [
        "import matplotlib.pyplot as plt"
      ]
    },
    {
      "cell_type": "code",
      "source": [
        "import numpy as np"
      ],
      "metadata": {
        "id": "h-zhvw2IwECx"
      },
      "execution_count": 22,
      "outputs": []
    },
    {
      "cell_type": "code",
      "source": [
        "dir(plt)"
      ],
      "metadata": {
        "collapsed": true,
        "id": "ur31WtAQoCHu"
      },
      "execution_count": null,
      "outputs": []
    },
    {
      "cell_type": "code",
      "source": [
        "xpoints=[1,2,3,4,5]\n",
        "ypoints=[10,20,30,40,50]\n",
        "plt.plot(xpoints, ypoints)\n",
        "plt.show()"
      ],
      "metadata": {
        "collapsed": true,
        "id": "TVIsUxSdoDRJ"
      },
      "execution_count": null,
      "outputs": []
    },
    {
      "cell_type": "code",
      "source": [
        "xpoints=[0,6]\n",
        "ypoints=[0,250]\n",
        "plt.plot(xpoints, ypoints)\n",
        "plt.show()"
      ],
      "metadata": {
        "collapsed": true,
        "id": "NoABR-ScpH5-"
      },
      "execution_count": null,
      "outputs": []
    },
    {
      "cell_type": "code",
      "source": [
        "#default x points\n",
        "ypoints=[0,250]\n",
        "plt.plot(ypoints)\n",
        "plt.show()"
      ],
      "metadata": {
        "collapsed": true,
        "id": "jWBzEmZargmI"
      },
      "execution_count": null,
      "outputs": []
    },
    {
      "cell_type": "code",
      "source": [
        "ypoints=[10, 20, 30, 40, 50, 60]\n",
        "# markersize or ms\n",
        "# markerfacecolor or mfc\n",
        "plt.plot(ypoints,'o:k' )\n",
        "plt.show()"
      ],
      "metadata": {
        "collapsed": true,
        "id": "_rIBL4-EtjRb"
      },
      "execution_count": null,
      "outputs": []
    },
    {
      "cell_type": "code",
      "source": [
        "ypoints=[10, 20, 30, 40, 50, 60]\n",
        "# markersize or ms\n",
        "# markerfacecolor or mfc\n",
        "plt.plot(ypoints, marker='o', markersize=10, color='green', markerfacecolor='blue')\n",
        "plt.show()"
      ],
      "metadata": {
        "collapsed": true,
        "id": "Vf24FG1vr_QN"
      },
      "execution_count": null,
      "outputs": []
    },
    {
      "cell_type": "code",
      "source": [
        "x1points=[1,2,3,4,5]\n",
        "y1points=[10,20,30,40,50]\n",
        "\n",
        "x2points=[11,22,33,44,55]\n",
        "y2points=[17,27,38,47,58]\n",
        "\n",
        "plt.plot(x1points, y1points)\n",
        "plt.plot(x2points, y2points)\n",
        "plt.show()"
      ],
      "metadata": {
        "collapsed": true,
        "id": "xdG8lwWGu8rf"
      },
      "execution_count": null,
      "outputs": []
    },
    {
      "cell_type": "code",
      "source": [],
      "metadata": {
        "id": "kH81ml5f7vOA"
      },
      "execution_count": null,
      "outputs": []
    },
    {
      "cell_type": "code",
      "source": [
        "x1points=[1,2,3,4,5]\n",
        "y1points=[10,20,30,40,50]\n",
        "\n",
        "x2points=[11,22,33,44,55]\n",
        "y2points=[17,27,38,47,58]\n",
        "\n",
        "plt.plot(x1points, y1points, 'o-.k', x2points, y2points, '*--b')\n",
        "plt.show()"
      ],
      "metadata": {
        "collapsed": true,
        "id": "RH45M9Lvv348"
      },
      "execution_count": null,
      "outputs": []
    },
    {
      "cell_type": "code",
      "source": [
        "# title & label\n",
        "x1points=[1,2,3,4,5]\n",
        "y1points=[10,20,30,40,50]\n",
        "plt.plot(x1points, y1points)\n",
        "plt.xlabel('Day')\n",
        "plt.ylabel('Sales')\n",
        "plt.title('Sales/Day')\n",
        "plt.show()"
      ],
      "metadata": {
        "id": "Ow0J9OArwA4w"
      },
      "execution_count": null,
      "outputs": []
    },
    {
      "cell_type": "code",
      "source": [
        "xpoints = [1,2,3,4,5]\n",
        "ypoints = [10,20,30,40,50]\n",
        "plt.plot(xpoints , ypoints)\n",
        "plt.xlabel(\"day\")\n",
        "plt.ylabel(\"sale\")\n",
        "plt.title(\"sale per day\")\n",
        "plt.show()"
      ],
      "metadata": {
        "collapsed": true,
        "id": "seWNEqj1z79G"
      },
      "execution_count": null,
      "outputs": []
    },
    {
      "cell_type": "code",
      "source": [
        "xpoints = [1,2,3,4,5]\n",
        "ypoints = [10,20,30,40,50]\n",
        "plt.plot(xpoints , ypoints)\n",
        "\n",
        "font1 = {'family':'serif','color':'blue','size':20}\n",
        "font2 = {'family':'serif','color':'darkred','size':15}\n",
        "\n",
        "plt.title(\"sale per day\", fontdict = font1, loc = 'right')\n",
        "plt.xlabel(\"day\" , fontdict= font2 )\n",
        "plt.ylabel(\"sale\", fontdict= font2)\n",
        "plt.grid()\n",
        "plt.show()"
      ],
      "metadata": {
        "collapsed": true,
        "id": "gVmnwkDg1m-h"
      },
      "execution_count": null,
      "outputs": []
    },
    {
      "cell_type": "code",
      "source": [
        "xpoints = [1,2,3,4,5]\n",
        "ypoints = [10,20,30,40,50]\n",
        "plt.plot(xpoints , ypoints)\n",
        "\n",
        "font1 = {'family':'serif','color':'blue','size':20}\n",
        "font2 = {'family':'serif','color':'darkred','size':15}\n",
        "\n",
        "plt.title(\"sale per day\", fontdict = font1, loc = 'right')\n",
        "plt.xlabel(\"day\" , fontdict= font2 )\n",
        "plt.ylabel(\"sale\", fontdict= font2)\n",
        "plt.grid(axis='x')\n",
        "plt.grid(axis='y')\n",
        "plt.show()"
      ],
      "metadata": {
        "collapsed": true,
        "id": "3zP_rebQ17i0"
      },
      "execution_count": null,
      "outputs": []
    },
    {
      "cell_type": "code",
      "source": [
        "# subplots 1st arg is row , 2nd arg is col , 3rd arg is index of the current plot\n",
        "x1 = [1,2,3,4,5]\n",
        "y1= [1,2,3,4,5]\n",
        "#plot 1\n",
        "plt.subplot(1,2,1)\n",
        "plt.plot(x1,y1)\n",
        "\n",
        "#plot 2\n",
        "x2 = [1,2,3,4,5]\n",
        "y2 = [17,27,38,67,89]\n",
        "plt.subplot(1,2,2)\n",
        "plt.plot(x2,y2)\n",
        "\n",
        "plt.show()\n"
      ],
      "metadata": {
        "id": "T8hsdEwg44mN"
      },
      "execution_count": null,
      "outputs": []
    },
    {
      "cell_type": "code",
      "source": [
        "x1 = [1,2,3,4,5]\n",
        "y1= [1,2,3,4,5]\n",
        "#plot 1\n",
        "plt.subplot(2,1,1)\n",
        "plt.plot(x1,y1)\n",
        "\n",
        "#plot 2\n",
        "x2 = [1,2,3,4,5]\n",
        "y2 = [17,27,38,67,89]\n",
        "plt.subplot(2,1,2)\n",
        "plt.plot(x2,y2)\n",
        "\n",
        "plt.show()"
      ],
      "metadata": {
        "id": "TIm-2QYY5ffg"
      },
      "execution_count": null,
      "outputs": []
    },
    {
      "cell_type": "code",
      "source": [
        "import numpy as np\n",
        "\n",
        "x = np.array([0, 1, 2, 3])\n",
        "y = np.array([3, 8, 1, 10])\n",
        "\n",
        "plt.subplot(3, 2, 1)\n",
        "plt.plot(x,y)\n",
        "\n",
        "x = np.array([0, 1, 2, 3])\n",
        "y = np.array([10, 20, 30, 40])\n",
        "\n",
        "plt.subplot(3, 2, 2)\n",
        "plt.plot(x,y)\n",
        "\n",
        "x = np.array([0, 1, 2, 3])\n",
        "y = np.array([3, 8, 1, 10])\n",
        "\n",
        "plt.subplot(3, 2, 3)\n",
        "plt.plot(x,y)\n",
        "\n",
        "x = np.array([0, 1, 2, 3])\n",
        "y = np.array([10, 20, 30, 40])\n",
        "\n",
        "plt.subplot(3, 2, 4)\n",
        "plt.plot(x,y)\n",
        "\n",
        "x = np.array([0, 1, 2, 3])\n",
        "y = np.array([3, 8, 1, 10])\n",
        "\n",
        "plt.subplot(3, 2, 5)\n",
        "plt.plot(x,y)\n",
        "\n",
        "x = np.array([0, 1, 2, 3])\n",
        "y = np.array([10, 20, 30, 40])\n",
        "\n",
        "plt.subplot(3, 2, 6)\n",
        "plt.plot(x,y)\n",
        "\n",
        "plt.show()\n"
      ],
      "metadata": {
        "id": "6jkEciP-62Qs"
      },
      "execution_count": null,
      "outputs": []
    },
    {
      "cell_type": "code",
      "source": [
        "# subplots 1st arg is row , 2nd arg is col , 3rd arg is index of the current plot\n",
        "\n",
        "x1 = [1,2,3,4,5]\n",
        "y1= [1,2,3,4,5]\n",
        "#plot 1\n",
        "plt.subplot(2,1,1)\n",
        "plt.title(\"Graph-1\")\n",
        "plt.plot(x1,y1)\n",
        "\n",
        "#plot 2\n",
        "x2 = [1,2,3,4,5]\n",
        "y2 = [17,27,38,67,89]\n",
        "plt.subplot(2,1,2)\n",
        "plt.title(\"Graph-2\")\n",
        "plt.plot(x2,y2)\n",
        "\n",
        "plt.suptitle(\"Multiple Plots\")\n",
        "\n",
        "plt.show()"
      ],
      "metadata": {
        "id": "pe8Y3jKp7iQr"
      },
      "execution_count": null,
      "outputs": []
    },
    {
      "cell_type": "code",
      "source": [
        "x2points=[11,22,33,44,55]\n",
        "y2points=[17,27,38,47,58]\n",
        "plt.scatter(x2points, y2points)\n",
        "plt.show()"
      ],
      "metadata": {
        "id": "q2Sms9107xcH"
      },
      "execution_count": null,
      "outputs": []
    },
    {
      "cell_type": "code",
      "source": [
        "x1points=[1,2,3,4,5]\n",
        "y1points=[10,20,30,40,50]\n",
        "\n",
        "x2points=[11,22,33,44,55]\n",
        "y2points=[17,27,38,47,58]\n",
        "\n",
        "plt.scatter(x1points, y1points)\n",
        "plt.scatter(x2points, y2points)\n",
        "plt.show()"
      ],
      "metadata": {
        "id": "FyDEc6zg79WU"
      },
      "execution_count": null,
      "outputs": []
    },
    {
      "cell_type": "code",
      "source": [
        "x2points=[11,22,33,44,55]\n",
        "y2points=[17,27,38,47,58]\n",
        "plt.bar(x2points, y2points, width=5)\n",
        "plt.show()"
      ],
      "metadata": {
        "id": "4KZ3GEvT8gqD"
      },
      "execution_count": null,
      "outputs": []
    },
    {
      "cell_type": "code",
      "source": [
        "x2points=[11,22,33,44,55]\n",
        "y2points=[17,27,38,47,58]\n",
        "plt.barh(x2points, y2points, height=5)\n",
        "plt.show()"
      ],
      "metadata": {
        "id": "P9PsxjmV9Ftj"
      },
      "execution_count": null,
      "outputs": []
    },
    {
      "cell_type": "code",
      "source": [
        "x = np.random.normal(170, 10, 250)\n",
        "plt.hist(x)\n",
        "plt.show()"
      ],
      "metadata": {
        "id": "1vFIsioewMdW",
        "outputId": "65e7da25-dc7d-4aa6-de1b-0f0f10c08d05",
        "colab": {
          "base_uri": "https://localhost:8080/",
          "height": 430
        }
      },
      "execution_count": 23,
      "outputs": [
        {
          "output_type": "display_data",
          "data": {
            "text/plain": [
              "<Figure size 640x480 with 1 Axes>"
            ],
            "image/png": "[encoded data removed]"
          },
          "metadata": {}
        }
      ]
    },
    {
      "cell_type": "code",
      "source": [
        "y = [35,25,15,30]\n",
        "plt.pie(y, labels=[\"a\",\"b\",\"c\",\"d\"], startangle=90)\n",
        "plt.show()"
      ],
      "metadata": {
        "id": "SJGd95pkxAXS",
        "outputId": "39809075-b99f-4d77-aef1-f569e7b23bcd",
        "colab": {
          "base_uri": "https://localhost:8080/",
          "height": 406
        }
      },
      "execution_count": 30,
      "outputs": [
        {
          "output_type": "display_data",
          "data": {
            "text/plain": [
              "<Figure size 640x480 with 1 Axes>"
            ],
            "image/png": "[encoded data removed]"
          },
          "metadata": {}
        }
      ]
    },
    {
      "cell_type": "code",
      "source": [],
      "metadata": {
        "id": "N59lLnBpxIKl"
      },
      "execution_count": null,
      "outputs": []
    }
  ]
}